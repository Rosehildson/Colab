{
  "nbformat": 4,
  "nbformat_minor": 0,
  "metadata": {
    "colab": {
      "provenance": [],
      "authorship_tag": "ABX9TyNCxdQ5YwihCrQ+VRcBFHxb",
      "include_colab_link": true
    },
    "kernelspec": {
      "name": "python3",
      "display_name": "Python 3"
    },
    "language_info": {
      "name": "python"
    }
  },
  "cells": [
    {
      "cell_type": "markdown",
      "metadata": {
        "id": "view-in-github",
        "colab_type": "text"
      },
      "source": [
        "<a href=\"https://colab.research.google.com/github/Rosehildson/Colab/blob/main/Wiki_Python_Exerc%C3%ADcios_de_fixa%C3%A7%C3%A3o.ipynb\" target=\"_parent\"><img src=\"https://colab.research.google.com/assets/colab-badge.svg\" alt=\"Open In Colab\"/></a>"
      ]
    },
    {
      "cell_type": "markdown",
      "source": [
        "**LISTA DE EXERCÍCIOS PYTHON PARA FIXAÇÃO DO APRENDIZADO**\n",
        "\n",
        "**essa lista é encontrada no endereço: https://wiki.python.org.br/ListaDeExercicios**"
      ],
      "metadata": {
        "id": "J-OeuAaBS4zl"
      }
    },
    {
      "cell_type": "markdown",
      "source": [
        "**1 - Faça um Programa que mostre a mensagem \"Alo mundo\" na tela.**"
      ],
      "metadata": {
        "id": "-JgMIQjuSzma"
      }
    },
    {
      "cell_type": "code",
      "source": [
        "print('Alo mundo')"
      ],
      "metadata": {
        "id": "0p0PM5bfS32I"
      },
      "execution_count": null,
      "outputs": []
    },
    {
      "cell_type": "markdown",
      "source": [
        "\n",
        "**2 - Faça um Programa que peça um número e então mostre a mensagem O número informado foi [número].**"
      ],
      "metadata": {
        "id": "8k2JJxK0TrI5"
      }
    },
    {
      "cell_type": "code",
      "source": [
        "# NOTA: esse programa so funciona para numeros inteiros positivos, não funciona para inteiros negativos ou decimais\n",
        "\n",
        "numero = ''\n",
        "while numero.isdigit() != True:\n",
        "  numero = input('Digite um número: ')\n",
        "  if numero.isdigit() != True:\n",
        "    print('O valor informado NÃO É VÁLIDO!\\n')\n",
        "\n",
        "print(f'O número informado foi: {numero}')"
      ],
      "metadata": {
        "id": "MZhHAPqLu11j"
      },
      "execution_count": null,
      "outputs": []
    },
    {
      "cell_type": "markdown",
      "source": [
        "**3 - Faça um Programa que peça dois números e imprima a soma.**"
      ],
      "metadata": {
        "id": "VjVSow68hhSM"
      }
    },
    {
      "cell_type": "code",
      "source": [
        "num1 = float(input('digite o valor de x: '))\n",
        "num2 = float(input('digite o valor de y: '))\n",
        "\n",
        "soma = num1 + num2\n",
        "print()\n",
        "print(f'O resultado da soma de {num1} + {num2} é: {soma}')"
      ],
      "metadata": {
        "id": "Gcn2Fb7QVEVu"
      },
      "execution_count": null,
      "outputs": []
    },
    {
      "cell_type": "markdown",
      "source": [
        "**4 - Faça um Programa que peça as 4 notas bimestrais e mostre a média.**"
      ],
      "metadata": {
        "id": "F8AcRgnZWdvy"
      }
    },
    {
      "cell_type": "code",
      "source": [
        "print('BOLETIM \\ninforme o valor de suas notas\\n')\n",
        "aluno = input('Nome do Aluno: ')\n",
        "\n",
        "conta_nota = 0\n",
        "total_nota = 0\n",
        "while conta_nota < 4:\n",
        "    conta_nota += 1\n",
        "    nota = float(input(f'Nota {conta_nota}: '))\n",
        "    total_nota = total_nota + nota\n",
        "\n",
        "media = (total_nota / 4)\n",
        "print(f'\\nAluno: {aluno.upper()}\\nMédia: {media}')"
      ],
      "metadata": {
        "id": "TXdrlv6vW7Ta"
      },
      "execution_count": null,
      "outputs": []
    },
    {
      "cell_type": "markdown",
      "source": [
        "**5 - Faça um Programa que converta metros para centímetros.**"
      ],
      "metadata": {
        "id": "qiVlsxAwdX8O"
      }
    },
    {
      "cell_type": "code",
      "source": [
        "metro = float(input('Digite o valor a ser convertido: '))\n",
        "\n",
        "centimetro = metro * 100\n",
        "\n",
        "print(f'\\nO resultado dessa conversão é que {metro}M, é igual a {centimetro}cm.')"
      ],
      "metadata": {
        "id": "hetvVW5NdeeU"
      },
      "execution_count": null,
      "outputs": []
    },
    {
      "cell_type": "markdown",
      "source": [
        "**6 - Faça um Programa que peça o raio de um círculo, calcule e mostre sua área.**"
      ],
      "metadata": {
        "id": "Ps17ohpb1rUW"
      }
    },
    {
      "cell_type": "code",
      "source": [],
      "metadata": {
        "id": "Z91cR3t_1xBw"
      },
      "execution_count": null,
      "outputs": []
    },
    {
      "cell_type": "markdown",
      "source": [
        "**7 - Faça um Programa que calcule a área de um quadrado, em seguida mostre o dobro desta área para o usuário.**"
      ],
      "metadata": {
        "id": "tC661qK1i79-"
      }
    },
    {
      "cell_type": "code",
      "source": [
        "base = float(input('Digite o valor da base do quadrado: '))\n",
        "altura = float(input('Digite o valor da altura do quadrado: '))\n",
        "\n",
        "area = base * altura\n",
        "\n",
        "print(f'\\nO dobro da área do quadrado é de: {area*2}')"
      ],
      "metadata": {
        "id": "jiAjtb82i9Q0"
      },
      "execution_count": null,
      "outputs": []
    },
    {
      "cell_type": "markdown",
      "source": [
        "**8 - Faça um Programa que pergunte quanto você ganha por hora e o número de horas trabalhadas no mês. Calcule e mostre o total do seu salário no referido mês.**"
      ],
      "metadata": {
        "id": "qd9g-i52jBHK"
      }
    },
    {
      "cell_type": "code",
      "source": [],
      "metadata": {
        "id": "WJ6_La1AjEPM"
      },
      "execution_count": null,
      "outputs": []
    },
    {
      "cell_type": "markdown",
      "source": [
        "**9 - Faça um Programa que peça a temperatura em graus Fahrenheit, transforme e mostre a temperatura em graus Celsius.\n",
        "C = 5 * ((F-32) / 9).**"
      ],
      "metadata": {
        "id": "w1_Q4zZCjEoX"
      }
    },
    {
      "cell_type": "code",
      "source": [],
      "metadata": {
        "id": "1FgzUWEAjIbY"
      },
      "execution_count": null,
      "outputs": []
    },
    {
      "cell_type": "markdown",
      "source": [
        "**10 - Faça um Programa que peça a temperatura em graus Celsius, transforme e mostre em graus Fahrenheit.**"
      ],
      "metadata": {
        "id": "p-VeVm_qjLhi"
      }
    },
    {
      "cell_type": "code",
      "source": [],
      "metadata": {
        "id": "5rJEXAp-jNNW"
      },
      "execution_count": null,
      "outputs": []
    },
    {
      "cell_type": "markdown",
      "source": [
        "# ***LABORATÓRIO DE TESTES PARA APERFEIÇOAR OS CÓDIGOS***"
      ],
      "metadata": {
        "id": "am8H2kZEjNz5"
      }
    },
    {
      "cell_type": "code",
      "source": [],
      "metadata": {
        "id": "gMPFCIZ0jQ5y"
      },
      "execution_count": null,
      "outputs": []
    }
  ]
}