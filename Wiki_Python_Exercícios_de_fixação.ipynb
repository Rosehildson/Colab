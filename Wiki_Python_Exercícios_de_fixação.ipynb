{
  "cells": [
    {
      "cell_type": "markdown",
      "metadata": {
        "id": "view-in-github",
        "colab_type": "text"
      },
      "source": [
        "<a href=\"https://colab.research.google.com/github/Rosehildson/Colab/blob/main/Wiki_Python_Exerc%C3%ADcios_de_fixa%C3%A7%C3%A3o.ipynb\" target=\"_parent\"><img src=\"https://colab.research.google.com/assets/colab-badge.svg\" alt=\"Open In Colab\"/></a>"
      ]
    },
    {
      "cell_type": "markdown",
      "metadata": {
        "id": "J-OeuAaBS4zl"
      },
      "source": [
        "**LISTA DE EXERCÍCIOS PYTHON PARA FIXAÇÃO DO APRENDIZADO**\n",
        "\n",
        "**essa lista é encontrada no endereço: https://wiki.python.org.br/ListaDeExercicios**"
      ]
    },
    {
      "cell_type": "markdown",
      "metadata": {
        "id": "-JgMIQjuSzma"
      },
      "source": [
        "**1 - Faça um Programa que mostre a mensagem \"Alo mundo\" na tela.**"
      ]
    },
    {
      "cell_type": "code",
      "execution_count": null,
      "metadata": {
        "id": "0p0PM5bfS32I"
      },
      "outputs": [],
      "source": [
        "# programa para apresentar \"Alo mundo\"\n",
        "print('Alo mundo')"
      ]
    },
    {
      "cell_type": "markdown",
      "metadata": {
        "id": "8k2JJxK0TrI5"
      },
      "source": [
        "\n",
        "**2 - Faça um Programa que peça um número e então mostre a mensagem O número informado foi [número].**"
      ]
    },
    {
      "cell_type": "code",
      "execution_count": null,
      "metadata": {
        "id": "MZhHAPqLu11j"
      },
      "outputs": [],
      "source": [
        "# NOTA: esse programa so funciona para numeros inteiros positivos, não funciona para inteiros negativos ou decimais\n",
        "\n",
        "numero = ''\n",
        "while numero.isdigit() != True:\n",
        "  numero = input('Digite um número: ')\n",
        "  if numero.isdigit() != True:\n",
        "    print('O valor informado NÃO É VÁLIDO!\\n')\n",
        "\n",
        "print(f'O número informado foi: {numero}')"
      ]
    },
    {
      "cell_type": "markdown",
      "metadata": {
        "id": "VjVSow68hhSM"
      },
      "source": [
        "**3 - Faça um Programa que peça dois números e imprima a soma.**"
      ]
    },
    {
      "cell_type": "code",
      "execution_count": null,
      "metadata": {
        "id": "Gcn2Fb7QVEVu"
      },
      "outputs": [],
      "source": [
        "num1 = float(input('digite o valor de x: '))\n",
        "num2 = float(input('digite o valor de y: '))\n",
        "\n",
        "soma = num1 + num2\n",
        "print()\n",
        "print(f'O resultado da soma de {num1} + {num2} é: {soma}')"
      ]
    },
    {
      "cell_type": "markdown",
      "metadata": {
        "id": "F8AcRgnZWdvy"
      },
      "source": [
        "**4 - Faça um Programa que peça as 4 notas bimestrais e mostre a média.**"
      ]
    },
    {
      "cell_type": "code",
      "execution_count": null,
      "metadata": {
        "id": "TXdrlv6vW7Ta"
      },
      "outputs": [],
      "source": [
        "print('BOLETIM \\ninforme o valor de suas notas\\n')\n",
        "aluno = input('Nome do Aluno: ')\n",
        "\n",
        "conta_nota = 0\n",
        "total_nota = 0\n",
        "while conta_nota < 4:\n",
        "    conta_nota += 1\n",
        "    nota = float(input(f'Nota {conta_nota}: '))\n",
        "    total_nota = total_nota + nota\n",
        "\n",
        "media = (total_nota / 4)\n",
        "print(f'\\nAluno: {aluno.upper()}\\nMédia: {media}')"
      ]
    },
    {
      "cell_type": "markdown",
      "metadata": {
        "id": "qiVlsxAwdX8O"
      },
      "source": [
        "**5 - Faça um Programa que converta metros para centímetros.**"
      ]
    },
    {
      "cell_type": "code",
      "execution_count": null,
      "metadata": {
        "id": "hetvVW5NdeeU"
      },
      "outputs": [],
      "source": [
        "metro = float(input('Digite o valor a ser convertido: '))\n",
        "\n",
        "centimetro = metro * 100\n",
        "\n",
        "print(f'\\nO resultado dessa conversão é que {metro}M, é igual a {centimetro}cm.')"
      ]
    },
    {
      "cell_type": "markdown",
      "metadata": {
        "id": "Ps17ohpb1rUW"
      },
      "source": [
        "**6 - Faça um Programa que peça o raio de um círculo, calcule e mostre sua área.**"
      ]
    },
    {
      "cell_type": "code",
      "execution_count": null,
      "metadata": {
        "id": "Z91cR3t_1xBw"
      },
      "outputs": [],
      "source": [
        "# Usuário digita o valor do raio\n",
        "raio = float(input('Digite o valor do raio: '))\n",
        "\n",
        "# Cálculo (área é igual a, PI(3.14) vezes raio ao quadrado)\n",
        "area = (3.14 * raio**2)\n",
        "\n",
        "# Exibindo resultado\n",
        "print(f'A área do circulo é de: {area}cm2')"
      ]
    },
    {
      "cell_type": "markdown",
      "metadata": {
        "id": "tC661qK1i79-"
      },
      "source": [
        "**7 - Faça um Programa que calcule a área de um quadrado, em seguida mostre o dobro desta área para o usuário.**"
      ]
    },
    {
      "cell_type": "code",
      "execution_count": null,
      "metadata": {
        "id": "jiAjtb82i9Q0"
      },
      "outputs": [],
      "source": [
        "base = float(input('Digite o valor da base do quadrado: '))\n",
        "altura = float(input('Digite o valor da altura do quadrado: '))\n",
        "\n",
        "area = base * altura\n",
        "\n",
        "print(f'\\nO dobro da área do quadrado é de: {area*2}')"
      ]
    },
    {
      "cell_type": "markdown",
      "metadata": {
        "id": "qd9g-i52jBHK"
      },
      "source": [
        "**8 - Faça um Programa que pergunte quanto você ganha por hora e o número de horas trabalhadas no mês. Calcule e mostre o total do seu salário no referido mês.**"
      ]
    },
    {
      "cell_type": "code",
      "execution_count": null,
      "metadata": {
        "id": "WJ6_La1AjEPM"
      },
      "outputs": [],
      "source": [
        "# Usuário entra com o valor por hora\n",
        "hora = float(input('valor da hora:'))\n",
        "\n",
        "# Usuário informa quantas horas tem se expediente\n",
        "expediente = float(input('expediente: '))\n",
        "\n",
        "# Valor é multiplicado pelas horas do expediente\n",
        "diaria = hora * expediente\n",
        "\n",
        "# Valor do expediente é multiplicado pelos dias do mês\n",
        "salario = diaria * 30\n",
        "\n",
        "# Exibe o valor do salário\n",
        "print(f'O seu salário é de: {salario}')"
      ]
    },
    {
      "cell_type": "markdown",
      "metadata": {
        "id": "w1_Q4zZCjEoX"
      },
      "source": [
        "**9 - Faça um Programa que peça a temperatura em graus Fahrenheit, transforme e mostre a temperatura em graus Celsius.\n",
        "C = 5 * ((F-32) / 9).**"
      ]
    },
    {
      "cell_type": "code",
      "execution_count": null,
      "metadata": {
        "id": "1FgzUWEAjIbY"
      },
      "outputs": [],
      "source": []
    },
    {
      "cell_type": "markdown",
      "metadata": {
        "id": "p-VeVm_qjLhi"
      },
      "source": [
        "**10 - Faça um Programa que peça a temperatura em graus Celsius, transforme e mostre em graus Fahrenheit.**"
      ]
    },
    {
      "cell_type": "code",
      "execution_count": null,
      "metadata": {
        "id": "5rJEXAp-jNNW"
      },
      "outputs": [],
      "source": []
    },
    {
      "cell_type": "markdown",
      "metadata": {
        "id": "am8H2kZEjNz5"
      },
      "source": [
        "# ***LABORATÓRIO DE TESTES PARA APERFEIÇOAR OS CÓDIGOS***"
      ]
    },
    {
      "cell_type": "code",
      "source": [
        "\n",
        "# palavra secreta do jogo\n",
        "palavra = 'larissa'\n",
        "\n",
        "# interação do usuário no jogo\n",
        "letra = input('Digite uma letra: ')\n",
        "\n",
        "# validação de apenas uma letra digitada\n",
        "valida = 0\n",
        "while len(letra) != 1:\n",
        "  letra = input('Digite apenas uma letra: ')\n",
        "\n",
        "# conferência da letra digitada\n",
        "for i in palavra:\n",
        "  if letra == i:\n",
        "    print(f'Acertô, mizeravi!\\nA palavra secreta é: {palavra}')\n",
        "    break\n"
      ],
      "metadata": {
        "colab": {
          "base_uri": "https://localhost:8080/"
        },
        "id": "BJSqIMr6OE6k",
        "outputId": "8e1198d4-5737-4e02-f02e-30345cef5712"
      },
      "execution_count": 52,
      "outputs": [
        {
          "output_type": "stream",
          "name": "stdout",
          "text": [
            "Digite uma letra: i\n",
            "Acertô, mizeravi!\n",
            "A palavra secreta é: larissa\n"
          ]
        }
      ]
    }
  ],
  "metadata": {
    "colab": {
      "provenance": [],
      "authorship_tag": "ABX9TyOfPgeo1x8s3R78tIMVUVFv",
      "include_colab_link": true
    },
    "kernelspec": {
      "display_name": "Python 3",
      "name": "python3"
    },
    "language_info": {
      "name": "python"
    }
  },
  "nbformat": 4,
  "nbformat_minor": 0
}